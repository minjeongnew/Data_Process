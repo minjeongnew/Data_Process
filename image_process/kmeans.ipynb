{
 "cells": [
  {
   "cell_type": "code",
   "execution_count": 1,
   "id": "931c6edf",
   "metadata": {},
   "outputs": [],
   "source": [
    "from skimage import io\n",
    "from sklearn.cluster import KMeans\n",
    "import numpy as np\n",
    "\n",
    "%matplotlib inline"
   ]
  },
  {
   "cell_type": "code",
   "execution_count": 4,
   "id": "85a7f42a",
   "metadata": {},
   "outputs": [],
   "source": [
    "# reading the image\n",
    "image = io.imread('./Olly_000.png')"
   ]
  },
  {
   "cell_type": "code",
   "execution_count": 5,
   "id": "f9b20ecb",
   "metadata": {},
   "outputs": [
    {
     "data": {
      "image/png": "[encoded data removed]",
      "text/plain": [
       "<Figure size 432x288 with 1 Axes>"
      ]
     },
     "metadata": {
      "needs_background": "light"
     },
     "output_type": "display_data"
    }
   ],
   "source": [
    "io.imshow(image);"
   ]
  },
  {
   "cell_type": "code",
   "execution_count": 8,
   "id": "20d85668",
   "metadata": {},
   "outputs": [
    {
     "data": {
      "text/plain": [
       "(1080, 1920, 4)"
      ]
     },
     "execution_count": 8,
     "metadata": {},
     "output_type": "execute_result"
    }
   ],
   "source": [
    "image.shape"
   ]
  },
  {
   "cell_type": "code",
   "execution_count": 10,
   "id": "3d13164f",
   "metadata": {},
   "outputs": [],
   "source": [
    "# preprocessing\n",
    "rows, cols = image.shape[0], image.shape[1]\n",
    "image = image.reshape(rows * cols, 4)"
   ]
  },
  {
   "cell_type": "code",
   "execution_count": 11,
   "id": "815c1591",
   "metadata": {},
   "outputs": [
    {
     "name": "stdout",
     "output_type": "stream",
     "text": [
      "(2073600, 4)\n",
      "[[ 76 105 113   0]\n",
      " [ 76 105 113   0]\n",
      " [ 76 105 113   0]\n",
      " [ 76 105 113   0]\n",
      " [ 76 105 113   0]]\n"
     ]
    }
   ],
   "source": [
    "print(image.shape)\n",
    "print(image[:5])"
   ]
  },
  {
   "cell_type": "code",
   "execution_count": 26,
   "id": "f1f411ee",
   "metadata": {},
   "outputs": [
    {
     "data": {
      "text/plain": [
       "KMeans(n_clusters=32)"
      ]
     },
     "execution_count": 26,
     "metadata": {},
     "output_type": "execute_result"
    }
   ],
   "source": [
    "# modelling\n",
    "kMeans = KMeans(n_clusters = 32)\n",
    "kMeans.fit(image)"
   ]
  },
  {
   "cell_type": "code",
   "execution_count": 27,
   "id": "dfa69558",
   "metadata": {},
   "outputs": [
    {
     "data": {
      "text/plain": [
       "array([[ 75, 105, 113,   0],\n",
       "       [106, 118, 122, 255],\n",
       "       [148, 160, 166, 254],\n",
       "       [ 83,  92,  95, 254],\n",
       "       [179, 192, 199,  50],\n",
       "       [126, 140, 145, 255],\n",
       "       [ 19,  26,  29, 254],\n",
       "       [180, 193, 200, 145],\n",
       "       [ 93, 103, 107, 255],\n",
       "       [164, 176, 183, 254],\n",
       "       [135, 148, 154, 254],\n",
       "       [111, 123, 128, 255],\n",
       "       [ 97, 108, 113, 255],\n",
       "       [ 88,  97, 101, 255],\n",
       "       [119, 132, 136, 255],\n",
       "       [167, 180, 186, 204],\n",
       "       [167, 180, 186,  94],\n",
       "       [ 38,  46,  49, 254],\n",
       "       [130, 144, 150, 255],\n",
       "       [156, 169, 175, 254],\n",
       "       [144, 156, 162, 215],\n",
       "       [  1,   3,   3, 255],\n",
       "       [101, 113, 117, 255],\n",
       "       [186, 200, 207,   5],\n",
       "       [173, 185, 192, 254],\n",
       "       [176, 189, 196,  19],\n",
       "       [140, 152, 158, 255],\n",
       "       [185, 198, 204,  92],\n",
       "       [123, 136, 141, 255],\n",
       "       [ 60,  69,  72, 254],\n",
       "       [160, 173, 179, 152],\n",
       "       [115, 128, 132, 255]], dtype=uint8)"
      ]
     },
     "execution_count": 27,
     "metadata": {},
     "output_type": "execute_result"
    }
   ],
   "source": [
    "# centers\n",
    "centers = np.asarray(kMeans.cluster_centers_, dtype = np.uint8)\n",
    "centers"
   ]
  },
  {
   "cell_type": "code",
   "execution_count": 28,
   "id": "b3ccf7b0",
   "metadata": {},
   "outputs": [
    {
     "name": "stdout",
     "output_type": "stream",
     "text": [
      "(2073600,)\n",
      "(1080, 1920)\n"
     ]
    },
    {
     "data": {
      "text/plain": [
       "array([[0, 0, 0, ..., 0, 0, 0],\n",
       "       [0, 0, 0, ..., 0, 0, 0],\n",
       "       [0, 0, 0, ..., 0, 0, 0],\n",
       "       ...,\n",
       "       [0, 0, 0, ..., 0, 0, 0],\n",
       "       [0, 0, 0, ..., 0, 0, 0],\n",
       "       [0, 0, 0, ..., 0, 0, 0]], dtype=uint8)"
      ]
     },
     "execution_count": 28,
     "metadata": {},
     "output_type": "execute_result"
    }
   ],
   "source": [
    "# labels \n",
    "labels = np.asarray(kMeans.labels_, dtype = np.uint8)\n",
    "print(labels.shape)\n",
    "labels = np.reshape(labels, (rows, cols))\n",
    "print(labels.shape)\n",
    "labels"
   ]
  },
  {
   "cell_type": "code",
   "execution_count": 29,
   "id": "657e6535",
   "metadata": {},
   "outputs": [],
   "source": [
    "# reconstructing\n",
    "newImage = np.zeros((rows, cols, 4), dtype = np.uint8)\n",
    "for i in range(rows):\n",
    "    for j in range(cols):\n",
    "            # assinging every pixel the rgb color of their label's center \n",
    "            newImage[i, j, :] = centers[labels[i, j], :]\n",
    "io.imsave('olly-compressed.png', newImage);"
   ]
  },
  {
   "cell_type": "code",
   "execution_count": null,
   "id": "3a270994",
   "metadata": {},
   "outputs": [],
   "source": []
  }
 ],
 "metadata": {
  "kernelspec": {
   "display_name": "Python 3",
   "language": "python",
   "name": "python3"
  },
  "language_info": {
   "codemirror_mode": {
    "name": "ipython",
    "version": 3
   },
   "file_extension": ".py",
   "mimetype": "text/x-python",
   "name": "python",
   "nbconvert_exporter": "python",
   "pygments_lexer": "ipython3",
   "version": "3.8.8"
  }
 },
 "nbformat": 4,
 "nbformat_minor": 5
}
